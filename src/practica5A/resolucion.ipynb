{
 "cells": [
  {
   "cell_type": "markdown",
   "metadata": {},
   "source": [
    "# Practica5A\n"
   ]
  },
  {
   "cell_type": "markdown",
   "metadata": {},
   "source": [
    "#### **Punto 1: Especificadores de acceso** "
   ]
  },
  {
   "cell_type": "markdown",
   "metadata": {},
   "source": [
    "a) *Considere la siguiente clase Alpha. ¿Es válido el acceso de la clase Gamma?*\n",
    "JUSTIFIQUE"
   ]
  },
  {
   "cell_type": "code",
   "execution_count": null,
   "metadata": {},
   "outputs": [],
   "source": [
    "package griego;\n",
    "class Alpha {\n",
    "    protected int x;\n",
    "    protected void otroMetodoA(){\n",
    "        System.out.println(“Un método protegido”);\n",
    "    }\n",
    "}\n",
    "\n",
    "#----------------------------------------------------#\n",
    "\n",
    "package griego;\n",
    "class Gamma {\n",
    "    void unMétodoG(){\n",
    "        Alpha a = new Alpha();\n",
    "        a.x=10;\n",
    "        a.otroMetodoA();\n",
    "        }\n",
    "}"
   ]
  },
  {
   "cell_type": "markdown",
   "metadata": {},
   "source": [
    "Es válido el acceso de la clase Gamma debido a que ambas clases ( ``Gamma`` y ``Alpha`` ) **pertenecen al mismo package** ``griego``.\n"
   ]
  },
  {
   "cell_type": "markdown",
   "metadata": {},
   "source": [
    "b) *Modifique la clase Alpha como se indica debajo. ¿Es válido el método de la clase Beta?* JUSTIFIQUE"
   ]
  },
  {
   "cell_type": "code",
   "execution_count": null,
   "metadata": {},
   "outputs": [],
   "source": [
    "package griego;\n",
    "public class Alpha {\n",
    "    int x;\n",
    "    void unMetodoA(){\n",
    "        System.out.println(“Un mét. paquete”);\n",
    "    }\n",
    "}\n",
    "\n",
    "#----------------------------------------------------#\n",
    "\n",
    "\n",
    "package romano;\n",
    "import griego.*;\n",
    "class Beta {\n",
    "    void unMetodoB(){\n",
    "        Alpha a = new Alpha();\n",
    "        a.x=10;\n",
    "        a.unMetodoA();\n",
    "    }\n",
    "}"
   ]
  },
  {
   "cell_type": "markdown",
   "metadata": {},
   "source": [
    "La manera en cómo esta definido el método `unMetodoB` es valida (es decir: `void unMetodoB`) pero no es válida la llamada al método `unMetodoA()` debido a que éste último método no es publico y por lo tanto no puede ser accedido por clases de paquetes externos.\n",
    "\n",
    "El error: `'unMetodoA()' is not public in 'practica5A.griego.Alpha2'. Cannot be accessed from outside package.`"
   ]
  },
  {
   "cell_type": "markdown",
   "metadata": {},
   "source": [
    "c) *Analice el método de la clase Delta. ¿Es válido? JUSTIFIQUE analizando cómo influye el\n",
    "control de acceso protected en la herencia de clases.*\n"
   ]
  },
  {
   "cell_type": "code",
   "execution_count": null,
   "metadata": {},
   "outputs": [],
   "source": [
    "package griego;\n",
    "public class Alpha {\n",
    "    protected int x;\n",
    "    protected void otroMetodoA(){\n",
    "        System.out.println(“Un método protegido”);\n",
    "    }\n",
    "}\n",
    "\n",
    "#----------------------------------------------------#\n",
    "\n",
    "\n",
    "package romano;\n",
    "import griego.*;\n",
    "public class Delta extends Alpha {\n",
    "    void unMetodoD(Alpha a, Delta d){\n",
    "        a.x=10;\n",
    "        d.x=10;\n",
    "        a.otroMetodoA();\n",
    "        d.otroMetodoA();\n",
    "    }\n",
    "}"
   ]
  },
  {
   "cell_type": "markdown",
   "metadata": {},
   "source": [
    "En teoría no deberia tener error debido a que el modificador protected permite que clases que pertenezcan al mismo paquete **o a subclases en diferentes paquetes** puedan llamar a un método protected o a un atributo protected: *\"A protected field or method in a public class can be accessed directly by all classes within the same package and its subclasses even if the subclasses are in different packages. It is more restrictive than default (or package) access.\"*\n",
    "\n",
    "En mi compilador me salta error por no ser public.\n"
   ]
  },
  {
   "cell_type": "markdown",
   "metadata": {},
   "source": [
    "#### **Punto 2: Numeros Random**"
   ]
  },
  {
   "cell_type": "markdown",
   "metadata": {},
   "source": [
    "##### a. Escriba una clase GeneraRandom"
   ]
  },
  {
   "cell_type": "markdown",
   "metadata": {},
   "source": [
    "ii.\n"
   ]
  },
  {
   "cell_type": "markdown",
   "metadata": {},
   "source": [
    "*Un método de clase llamado obtenerRandom que devuelve un valor entero, considerando que sea mayor o igual que cero y menor o igual que el valor máximo especificado en el punto i*\n"
   ]
  },
  {
   "cell_type": "markdown",
   "metadata": {},
   "source": [
    "Teniendo en cuenta que el método `random()` genera números aleatorios entre 0 y 1 lo utilizaremos para generar un número aleatorio entre 0 y el `MAXIMO_VALOR` de la siguiente manera:"
   ]
  },
  {
   "cell_type": "code",
   "execution_count": null,
   "metadata": {},
   "outputs": [],
   "source": [
    "    public int obtenerRandom(){\n",
    "        int numeroAleatorio = (int)(Math.random() * (MAXIMO_VALOR+1));\n",
    "        return numeroAleatorio;\n",
    "    }"
   ]
  },
  {
   "cell_type": "markdown",
   "metadata": {},
   "source": [
    "iii."
   ]
  },
  {
   "cell_type": "code",
   "execution_count": null,
   "metadata": {},
   "outputs": [],
   "source": [
    "public class testRandom {\n",
    "\n",
    "    /**\n",
    "     * Vamos a verificar el correcto funcionamiento de la clase GeneraRandom() invocando 100 veces al método obtenerRandom()\n",
    "     */\n",
    "    public static void main(String[] args) {\n",
    "        GeneraRandom generador = new GeneraRandom();\n",
    "        for (int i = 0; i < 100; i++) {\n",
    "            System.out.println(\"El numero random es: \"+generador.obtenerRandom());\n",
    "        }\n",
    "    }\n",
    "}"
   ]
  },
  {
   "cell_type": "markdown",
   "metadata": {},
   "source": [
    "iv.\n"
   ]
  },
  {
   "cell_type": "markdown",
   "metadata": {},
   "source": [
    "Es posible crear una instancia de la clase GeneraRandom y enviarle mensajes de clase y fue así como en el inciso anterior el método fue testeado."
   ]
  },
  {
   "cell_type": "markdown",
   "metadata": {},
   "source": [
    "##### b. La clase Math está definida como `public final class Math`"
   ]
  },
  {
   "cell_type": "markdown",
   "metadata": {},
   "source": [
    "##### i.\n",
    "Cuando se aplica a una clase (``final class``), significa que la clase **no puede ser subclaseada o extendida**. Es decir, no se pueden crear subclases de una clase final.\n",
    "##### ii.\n",
    "Otras clases conocidas dentro de la API de JAVA que son `final class` son:\n",
    "\n",
    "* `java.lang.String`\n",
    "\n",
    "* `java.lang.System`\n",
    "\n",
    "* `java.lang.Scanner`"
   ]
  },
  {
   "cell_type": "markdown",
   "metadata": {},
   "source": [
    "##### c."
   ]
  },
  {
   "cell_type": "markdown",
   "metadata": {},
   "source": [
    "*Modifique la clase GeneraRandom de modo que no permita subclases ni sobreescritura de sus métodos.*\n",
    "\n",
    "Para llevar a cabo esto, solamente es necesario modificar el método `obtenerRandom()` de la siguiente manera:"
   ]
  },
  {
   "cell_type": "code",
   "execution_count": null,
   "metadata": {},
   "outputs": [],
   "source": [
    "    final int obtenerRandom(){\n",
    "        int numeroAleatorio = (int)(Math.random() * (MAXIMO_VALOR+1));\n",
    "        return numeroAleatorio;\n",
    "    }"
   ]
  },
  {
   "cell_type": "markdown",
   "metadata": {},
   "source": [
    "##### d.\n"
   ]
  },
  {
   "cell_type": "markdown",
   "metadata": {},
   "source": [
    "*Modifique la clase GeneraRandom de modo que no permita la generación de instancias.*\n",
    "\n",
    "Para llevar a cabo esto, modificamos la clase `GeneraRandom` de tal manera que la hacemos **abstracta**.\n"
   ]
  },
  {
   "cell_type": "code",
   "execution_count": null,
   "metadata": {},
   "outputs": [],
   "source": [
    "public abstract class GeneraRandom {\n",
    "    int MAXIMO_VALOR=2;\n",
    "\n",
    "    public static void main(String[] args) {\n",
    "        GeneraRandom gr = new GeneraRandom();\n",
    "        System.out.println(\"El numero random es: \"+gr.obtenerRandom());\n",
    "    }\n",
    "\n",
    "    public int obtenerRandom(){\n",
    "        int numeroAleatorio = (int)(Math.random() * (MAXIMO_VALOR+1));\n",
    "        return numeroAleatorio;\n",
    "    }\n",
    "}"
   ]
  },
  {
   "cell_type": "markdown",
   "metadata": {},
   "source": [
    "\n",
    "#### **Punto 3: Constructores y especificadores de acceso**"
   ]
  },
  {
   "cell_type": "markdown",
   "metadata": {},
   "source": [
    "Sea el siguiente código:"
   ]
  },
  {
   "cell_type": "code",
   "execution_count": null,
   "metadata": {},
   "outputs": [],
   "source": [
    "public class SuperClase {\n",
    "    private SuperClase() {\n",
    "        }\n",
    "}\n",
    "\n",
    "#----------------------------------------------------#\n",
    "\n",
    "public class SubClase extends SuperClase {\n",
    "    public SubClase() {\n",
    "    }\n",
    "}"
   ]
  },
  {
   "cell_type": "markdown",
   "metadata": {},
   "source": [
    "El mismo no compila debido a que el constructor de la clase `SuperClase` es privado y por lo tanto no está disponible en la clase `SubClase`.\n",
    "Como en Java la herencia se implementa a través de la **invocación a constructores de las super clases** hasta alcanzar la clase Object, si uno de los constructores de la clase padre no está disponible no se podrá llevar a cabo la implementación de la herencia. El código no compilará.\n",
    "\n"
   ]
  }
 ],
 "metadata": {
  "kernelspec": {
   "display_name": "Python 3 (ipykernel)",
   "language": "python",
   "name": "python3"
  }
 },
 "nbformat": 4,
 "nbformat_minor": 2
}
