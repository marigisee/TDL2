{
 "cells": [
  {
   "cell_type": "markdown",
   "metadata": {},
   "source": [
    "# Practica5b"
   ]
  },
  {
   "cell_type": "markdown",
   "metadata": {},
   "source": [
    "#### **Punto 2: Sobrescritura de métodos y especificadores de acceso.**"
   ]
  },
  {
   "cell_type": "markdown",
   "metadata": {},
   "source": [
    "##### i.\n",
    " "
   ]
  },
  {
   "cell_type": "markdown",
   "metadata": {},
   "source": [
    "*Indique el motivo del error en compilación.*\n",
    "\n",
    "El error de compilación yace en que el método `saludo()` en la clase `Gato` está declarado como `private`, lo cual **impide que se pueda sobrescribir correctamente** el método de la clase abstracta Animal.\n",
    "\n",
    "Por otro lado, en la clase `Perro`, el método `saludo()` se implementa **sin especificar un modificador de acceso**: cuando no se especifica un modfificador de acceso en un método, se utiliza el modificador de acceso predeterminado, que es el acceso de paquete. \n",
    "\n",
    "El modificador de acceso predeterminado se llama `package-private` y el mismo implica visibilidad para con los miembros pertenecientes al **mismo paquete**.\n",
    "Dicho modificador de acceso no posee el comportamiento de `protected` como lo especifica la clase abstracta `Animal`."
   ]
  },
  {
   "cell_type": "markdown",
   "metadata": {},
   "source": [
    "##### ii.\n",
    " "
   ]
  }
 ],
 "metadata": {
  "language_info": {
   "name": "python"
  }
 },
 "nbformat": 4,
 "nbformat_minor": 2
}
